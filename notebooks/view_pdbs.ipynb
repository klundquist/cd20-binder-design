{
 "cells": [
  {
   "cell_type": "markdown",
   "id": "4dc5ee6f-7c8d-4d4d-a116-bd8a235a89cf",
   "metadata": {},
   "source": [
    "To view pdbs in a certain folder on your local system, just change the pdb_directory variable and run the code below"
   ]
  },
  {
   "cell_type": "code",
   "execution_count": 1,
   "id": "5985868c-7c57-4a16-ae3d-ac1a4ead06fb",
   "metadata": {},
   "outputs": [
    {
     "data": {
      "application/vnd.jupyter.widget-view+json": {
       "model_id": "6cef0fd9e0cf46df8ac50f930a18f5a9",
       "version_major": 2,
       "version_minor": 0
      },
      "text/plain": []
     },
     "metadata": {},
     "output_type": "display_data"
    },
    {
     "data": {
      "application/vnd.jupyter.widget-view+json": {
       "model_id": "e4ec5b8e6148468da56971b8dd2a2469",
       "version_major": 2,
       "version_minor": 0
      },
      "text/plain": [
       "Dropdown(description='Select Design:', options={'binder_design_9.pdb': '/Users/karl/bits-to-binders/beta_model…"
      ]
     },
     "metadata": {},
     "output_type": "display_data"
    },
    {
     "data": {
      "application/vnd.jupyter.widget-view+json": {
       "model_id": "55db3aec3d294693b5fbc4a61cc85fd4",
       "version_major": 2,
       "version_minor": 0
      },
      "text/plain": [
       "Output()"
      ]
     },
     "metadata": {},
     "output_type": "display_data"
    }
   ],
   "source": [
    "import nglview as nv\n",
    "import ipywidgets as widgets\n",
    "from IPython.display import display\n",
    "import os\n",
    "\n",
    "# Specify the path to the directory containing the PDB files\n",
    "pdb_directory = '/Users/karl/bits-to-binders/beta_model/'  # <------- CHANGE ME!\n",
    "\n",
    "# Function to get all PDB files in the directory\n",
    "def get_pdb_files(path):\n",
    "    pdb_files = {}\n",
    "    for file_name in os.listdir(path):\n",
    "        if file_name.endswith('.pdb'):  # Only consider .pdb files\n",
    "            full_path = os.path.join(path, file_name)\n",
    "            pdb_files[file_name] = full_path  # Use filename as the key and full path as value\n",
    "    return pdb_files\n",
    "\n",
    "# List all PDB files in the directory\n",
    "pdb_files = get_pdb_files(pdb_directory)\n",
    "\n",
    "# Define a function to load a selected PDB file\n",
    "def show_pdb(pdb_path):\n",
    "    view = nv.show_structure_file(pdb_path)\n",
    "    view.add_cartoon()  # Add a cartoon representation\n",
    "    return view\n",
    "\n",
    "# Dropdown widget for selecting a design\n",
    "dropdown = widgets.Dropdown(\n",
    "    options=pdb_files,\n",
    "    description='Select Design:',\n",
    "    disabled=False\n",
    ")\n",
    "\n",
    "# Output widget to display the view\n",
    "output = widgets.Output()\n",
    "\n",
    "# Function to update the view based on the dropdown selection\n",
    "def on_pdb_change(change):\n",
    "    output.clear_output()  # Clear the current output\n",
    "    with output:\n",
    "        view = show_pdb(change['new'])  # Load the new PDB\n",
    "        display(view)  # Display the NGLview\n",
    "\n",
    "# Attach the change event to the dropdown\n",
    "dropdown.observe(on_pdb_change, names='value')\n",
    "\n",
    "# Display the dropdown and initial structure\n",
    "display(dropdown)\n",
    "display(output)\n",
    "\n",
    "# Load the initial PDB\n",
    "on_pdb_change({'new': list(pdb_files.values())[0]})"
   ]
  }
 ],
 "metadata": {
  "kernelspec": {
   "display_name": "Python 3 (ipykernel)",
   "language": "python",
   "name": "python3"
  },
  "language_info": {
   "codemirror_mode": {
    "name": "ipython",
    "version": 3
   },
   "file_extension": ".py",
   "mimetype": "text/x-python",
   "name": "python",
   "nbconvert_exporter": "python",
   "pygments_lexer": "ipython3",
   "version": "3.9.19"
  }
 },
 "nbformat": 4,
 "nbformat_minor": 5
}
